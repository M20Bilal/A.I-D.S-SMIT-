{
 "cells": [
  {
   "cell_type": "markdown",
   "id": "2ec35d41-d396-4fc1-814d-d95ad16b92fc",
   "metadata": {},
   "source": [
    "# Zen Of Python"
   ]
  },
  {
   "cell_type": "code",
   "execution_count": 15,
   "id": "c44a12bf-616c-42a9-8212-aee554be3da1",
   "metadata": {},
   "outputs": [
    {
     "name": "stdout",
     "output_type": "stream",
     "text": [
      "The Zen of Python, by Tim Peters\n",
      "\n",
      "Beautiful is better than ugly.\n",
      "Explicit is better than implicit.\n",
      "Simple is better than complex.\n",
      "Complex is better than complicated.\n",
      "Flat is better than nested.\n",
      "Sparse is better than dense.\n",
      "Readability counts.\n",
      "Special cases aren't special enough to break the rules.\n",
      "Although practicality beats purity.\n",
      "Errors should never pass silently.\n",
      "Unless explicitly silenced.\n",
      "In the face of ambiguity, refuse the temptation to guess.\n",
      "There should be one-- and preferably only one --obvious way to do it.\n",
      "Although that way may not be obvious at first unless you're Dutch.\n",
      "Now is better than never.\n",
      "Although never is often better than *right* now.\n",
      "If the implementation is hard to explain, it's a bad idea.\n",
      "If the implementation is easy to explain, it may be a good idea.\n",
      "Namespaces are one honking great idea -- let's do more of those!\n"
     ]
    }
   ],
   "source": [
    "import this"
   ]
  },
  {
   "cell_type": "markdown",
   "id": "a3791231-efa7-4d70-8308-bf0126a2eaed",
   "metadata": {},
   "source": [
    "* Date -> 10-3-2023\n",
    "# Class 1"
   ]
  },
  {
   "cell_type": "code",
   "execution_count": 1,
   "id": "f0711f1e-0bb3-418b-9031-48fca1c31029",
   "metadata": {},
   "outputs": [
    {
     "name": "stdout",
     "output_type": "stream",
     "text": [
      "Welcome to SMIT.\n",
      "Hello world.\n"
     ]
    }
   ],
   "source": [
    "print('Welcome to SMIT.')\n",
    "print('Hello world.')"
   ]
  },
  {
   "cell_type": "markdown",
   "id": "1830cce8-a93a-47d2-ada6-b653a86ca33d",
   "metadata": {},
   "source": [
    "* Date -> 14-3-2023\n",
    "# Class 2\n",
    "* Help\n",
    "    * **function_name()**\n",
    "    * help function\n",
    "    * function?\n",
    "    * function??\n",
    "    * ?function\n",
    "    * ??function\n",
    "* Print\n",
    "    * value ,\n",
    "    * sep\n",
    "    * end\n",
    "* Variable\n",
    "    * string\n",
    "        * starts with **\"** & ends with **\"**\n",
    "        * \"Muhammad Bilal\"\n",
    "        * You can also use these symbols for define string\n",
    "            * ```'``` single line string\n",
    "            * ```\"``` single line string\n",
    "            * ```'''``` multilines string\n",
    "            * ```\"\"\"``` multilines string\n",
    "    * number\n",
    "       * int\n",
    "           * ```1```\n",
    "       * float\n",
    "           * ```1.5```\n",
    "    * with print"
   ]
  },
  {
   "cell_type": "code",
   "execution_count": 5,
   "id": "810e1ddd-6d14-4b0c-8222-c4d04228d0d7",
   "metadata": {
    "tags": []
   },
   "outputs": [
    {
     "name": "stdout",
     "output_type": "stream",
     "text": [
      "Help on built-in function print in module builtins:\n",
      "\n",
      "print(...)\n",
      "    print(value, ..., sep=' ', end='\\n', file=sys.stdout, flush=False)\n",
      "    \n",
      "    Prints the values to a stream, or to sys.stdout by default.\n",
      "    Optional keyword arguments:\n",
      "    file:  a file-like object (stream); defaults to the current sys.stdout.\n",
      "    sep:   string inserted between values, default a space.\n",
      "    end:   string appended after the last value, default a newline.\n",
      "    flush: whether to forcibly flush the stream.\n",
      "\n"
     ]
    },
    {
     "data": {
      "text/plain": [
       "\u001b[1;31mDocstring:\u001b[0m\n",
       "print(value, ..., sep=' ', end='\\n', file=sys.stdout, flush=False)\n",
       "\n",
       "Prints the values to a stream, or to sys.stdout by default.\n",
       "Optional keyword arguments:\n",
       "file:  a file-like object (stream); defaults to the current sys.stdout.\n",
       "sep:   string inserted between values, default a space.\n",
       "end:   string appended after the last value, default a newline.\n",
       "flush: whether to forcibly flush the stream.\n",
       "\u001b[1;31mType:\u001b[0m      builtin_function_or_method\n"
      ]
     },
     "metadata": {},
     "output_type": "display_data"
    }
   ],
   "source": [
    "help(print) # (shift+tab) for the defination of function\n",
    "print?\n",
    "print??\n",
    "??print\n",
    "?print"
   ]
  },
  {
   "cell_type": "markdown",
   "id": "0c68d7dd-a3c9-4b43-8ecc-38c6ed397ddb",
   "metadata": {},
   "source": [
    "# Function & Parameters"
   ]
  },
  {
   "cell_type": "code",
   "execution_count": 7,
   "id": "d9dadbbd-9a24-4797-afa9-5004ae6a4201",
   "metadata": {},
   "outputs": [
    {
     "name": "stdout",
     "output_type": "stream",
     "text": [
      "1 2 3 4 5\n",
      "1 2 3 4 5\n",
      "A B C D\n",
      "ABCD\n",
      "line1\n",
      "line2\n",
      "line3\n",
      "line1>>>line2>>>line3>>>1*2*3*4*5\n",
      "A>B>C>D>E\n",
      "i<ii<iii<iv<v\n",
      "1*2*3*4*5,A>B>C>D>E,i<ii<iii<iv<v."
     ]
    }
   ],
   "source": [
    "# \\(back slash)  = special character\n",
    "print(1,2,3,4,5,end = '\\n')\n",
    "print(1,2,3,4,5,end = '\\n')\n",
    "print(\"A\",\"B\",\"C\",\"D\")\n",
    "# seprator keyword\n",
    "print(\"A\",\"B\",\"C\",\"D\",sep='')\n",
    "print(\"line1\")\n",
    "print(\"line2\")\n",
    "print(\"line3\")\n",
    "# end keyword\n",
    "print(\"line1\",end=\">>>\")\n",
    "print(\"line2\",end=\">>>\")\n",
    "print(\"line3\",end=\">>>\")\n",
    "print(1,2,3,4,5,sep=\"*\")\n",
    "print(\"A\",\"B\",\"C\",\"D\",\"E\",sep=\">\")\n",
    "print('i','ii','iii','iv','v',sep=\"<\")\n",
    "# merging lines\n",
    "print(1,2,3,4,5,sep=\"*\",end=',')\n",
    "print(\"A\",\"B\",\"C\",\"D\",\"E\",sep=\">\",end=',')\n",
    "print('i','ii','iii','iv','v',sep=\"<\",end='.')"
   ]
  },
  {
   "cell_type": "markdown",
   "id": "a7389891-24b2-42bf-bad1-0c80e6aaf394",
   "metadata": {
    "tags": []
   },
   "source": [
    "# Variable\n",
    "\n",
    "* https://peps.python.org/pep-0020/\n",
    "\n",
    "    **```Variable_name = value```**"
   ]
  },
  {
   "cell_type": "code",
   "execution_count": 16,
   "id": "0bca078e-5a67-402d-b4d8-d28d4927d07d",
   "metadata": {},
   "outputs": [
    {
     "name": "stdout",
     "output_type": "stream",
     "text": [
      "Muhammad Bilal\n",
      "Muhammad Bilal\n",
      "Muhammad Bilal\n",
      "Muhammad Bilal\n",
      "Muhammad Bilal\n",
      "Muhammad Bilal\n"
     ]
    }
   ],
   "source": [
    "user = \"Muhammad Bilal\"\n",
    "print(user)\n",
    "print(user)\n",
    "print(user)\n",
    "print(\"Muhammad Bilal\")\n",
    "print(\"Muhammad Bilal\")\n",
    "print(\"Muhammad Bilal\")"
   ]
  },
  {
   "cell_type": "code",
   "execution_count": 25,
   "id": "2f6e9a20-5843-408c-b5e9-4e18c8242ae6",
   "metadata": {},
   "outputs": [
    {
     "name": "stdout",
     "output_type": "stream",
     "text": [
      "Happy Birthday Muhammad Bilal today is your birthday 19\n"
     ]
    }
   ],
   "source": [
    "name = \"Muhammad Bilal\"\n",
    "age = 19\n",
    "Education = \"BBA\"\n",
    "\n",
    "print(\"Happy Birthday\",name,\"today is your birthday\",age)\n"
   ]
  },
  {
   "cell_type": "code",
   "execution_count": 24,
   "id": "dea6473d-b98c-43f9-aec6-5102ce5fc71e",
   "metadata": {},
   "outputs": [
    {
     "name": "stdout",
     "output_type": "stream",
     "text": [
      "\n",
      "     SMIT\n",
      "Muhammad Bilal\n",
      "Batch No4 AI & DS\n",
      "AI-120312\n",
      "\n"
     ]
    }
   ],
   "source": [
    "card = \"\"\"\n",
    "     SMIT\n",
    "Muhammad Bilal\n",
    "Batch No4 AI & DS\n",
    "AI-120312\n",
    "\"\"\"\n",
    "print(card)"
   ]
  },
  {
   "cell_type": "markdown",
   "id": "3bef717a-6999-4ee2-93d5-f0831a34c9d3",
   "metadata": {},
   "source": [
    "# Apply some function on variable\n",
    "    * help()\n",
    "    * len()\n",
    "    * id()\n",
    "    * type()\n",
    "    * dir()"
   ]
  },
  {
   "cell_type": "code",
   "execution_count": 35,
   "id": "cd8746b7-0099-461a-be39-e5f156acb888",
   "metadata": {},
   "outputs": [
    {
     "name": "stdout",
     "output_type": "stream",
     "text": [
      "Muhammad Bilal\n",
      "14\n",
      "1353567149680\n",
      "<class 'str'>\n",
      "['__add__', '__class__', '__contains__', '__delattr__', '__dir__', '__doc__', '__eq__', '__format__', '__ge__', '__getattribute__', '__getitem__', '__getnewargs__', '__gt__', '__hash__', '__init__', '__init_subclass__', '__iter__', '__le__', '__len__', '__lt__', '__mod__', '__mul__', '__ne__', '__new__', '__reduce__', '__reduce_ex__', '__repr__', '__rmod__', '__rmul__', '__setattr__', '__sizeof__', '__str__', '__subclasshook__', 'capitalize', 'casefold', 'center', 'count', 'encode', 'endswith', 'expandtabs', 'find', 'format', 'format_map', 'index', 'isalnum', 'isalpha', 'isascii', 'isdecimal', 'isdigit', 'isidentifier', 'islower', 'isnumeric', 'isprintable', 'isspace', 'istitle', 'isupper', 'join', 'ljust', 'lower', 'lstrip', 'maketrans', 'partition', 'removeprefix', 'removesuffix', 'replace', 'rfind', 'rindex', 'rjust', 'rpartition', 'rsplit', 'rstrip', 'split', 'splitlines', 'startswith', 'strip', 'swapcase', 'title', 'translate', 'upper', 'zfill']\n"
     ]
    }
   ],
   "source": [
    "name = \"Muhammad Bilal\"\n",
    "print(name)\n",
    "print(len(name)) # lenght of variable\n",
    "print(id(name)) # Memory address of variable\n",
    "print(type(name)) # Type of function\n",
    "print(dir(name)) # All methods and attributes of variable"
   ]
  },
  {
   "cell_type": "code",
   "execution_count": 37,
   "id": "87e3ec3d-41f4-4e81-be96-17b1b792af0d",
   "metadata": {},
   "outputs": [
    {
     "name": "stdout",
     "output_type": "stream",
     "text": [
      "19\n",
      "1353482988400\n",
      "<class 'int'>\n",
      "['__abs__', '__add__', '__and__', '__bool__', '__ceil__', '__class__', '__delattr__', '__dir__', '__divmod__', '__doc__', '__eq__', '__float__', '__floor__', '__floordiv__', '__format__', '__ge__', '__getattribute__', '__getnewargs__', '__gt__', '__hash__', '__index__', '__init__', '__init_subclass__', '__int__', '__invert__', '__le__', '__lshift__', '__lt__', '__mod__', '__mul__', '__ne__', '__neg__', '__new__', '__or__', '__pos__', '__pow__', '__radd__', '__rand__', '__rdivmod__', '__reduce__', '__reduce_ex__', '__repr__', '__rfloordiv__', '__rlshift__', '__rmod__', '__rmul__', '__ror__', '__round__', '__rpow__', '__rrshift__', '__rshift__', '__rsub__', '__rtruediv__', '__rxor__', '__setattr__', '__sizeof__', '__str__', '__sub__', '__subclasshook__', '__truediv__', '__trunc__', '__xor__', 'as_integer_ratio', 'bit_length', 'conjugate', 'denominator', 'from_bytes', 'imag', 'numerator', 'real', 'to_bytes']\n"
     ]
    }
   ],
   "source": [
    "age = 19\n",
    "\n",
    "print(age)\n",
    "# print(len(age))  lenght of variable\n",
    "print(id(age)) # Memory address of variable\n",
    "print(type(age)) # Type of function\n",
    "print(dir(age)) # All methods and attributes of variable"
   ]
  },
  {
   "cell_type": "markdown",
   "id": "4bbae09a-8016-4253-98c7-6d3f8060c179",
   "metadata": {},
   "source": [
    "* Date ->17-3-2023\n",
    "# Class 3"
   ]
  },
  {
   "cell_type": "code",
   "execution_count": 31,
   "id": "07bc106f-27fb-4a22-bfbd-3e3eb7d1b5b3",
   "metadata": {},
   "outputs": [
    {
     "name": "stdin",
     "output_type": "stream",
     "text": [
      "Area Of Circle: 09\n"
     ]
    },
    {
     "name": "stdout",
     "output_type": "stream",
     "text": [
      "14.137166941154069\n"
     ]
    },
    {
     "name": "stdin",
     "output_type": "stream",
     "text": [
      "A: 65\n",
      "B: 990\n"
     ]
    },
    {
     "name": "stdout",
     "output_type": "stream",
     "text": [
      "130810\n"
     ]
    }
   ],
   "source": [
    "from math import *\n",
    "c = int(input(\"Area Of Circle:\"))\n",
    "Area_Of_Circle = c/2*pi\n",
    "print(Area_Of_Circle)\n",
    "\n",
    "from math import *\n",
    "a =int(input(\"A:\"))\n",
    "b =int(input(\"B:\"))\n",
    "Answer = a*2+2*a*b+b*2\n",
    "print(Answer)"
   ]
  },
  {
   "cell_type": "markdown",
   "id": "7e2b8188-66df-4bff-bb1d-11afee5e6601",
   "metadata": {},
   "source": [
    "# Text Formating/Formation/Concatination"
   ]
  },
  {
   "cell_type": "code",
   "execution_count": 32,
   "id": "31ff26e5-0136-4c99-9002-9ee25e1cd16e",
   "metadata": {},
   "outputs": [
    {
     "name": "stdout",
     "output_type": "stream",
     "text": [
      "Muhammad Bilal\n",
      "Muhammad Bilal\n",
      "Muhammad Bilal\n",
      "Muhammad Bilal\n",
      "Muhammad Bilal\n",
      "None\n",
      "None\n",
      "None\n"
     ]
    }
   ],
   "source": [
    "student_name = \"Muhammad Bilal\"\n",
    "print(student_name) \n",
    "#return function (the value can be put into any variable)\n",
    "a = \"Muhammad Bilal\"\n",
    "print(a)\n",
    "print(a)\n",
    "print(a)\n",
    "#noreturn function (the value can't be put into variable)\n",
    "a = print(\"Muhammad Bilal\")\n",
    "print(a)\n",
    "print(a)\n",
    "print(a)"
   ]
  },
  {
   "cell_type": "markdown",
   "id": "53cdda07-645d-4ccc-961c-633faad39440",
   "metadata": {
    "tags": []
   },
   "source": [
    "# Concatination\n",
    "* `+`\n",
    "* .format \n",
    "* f \n",
    "* % "
   ]
  },
  {
   "cell_type": "code",
   "execution_count": 49,
   "id": "d8cfb3f2-55cc-4d07-ba64-32b92ff90155",
   "metadata": {},
   "outputs": [
    {
     "name": "stdout",
     "output_type": "stream",
     "text": [
      "Institute name: Saylani Mass IT Traning Program\n"
     ]
    }
   ],
   "source": [
    "# First Method\n",
    "First_name = \"Muhammad\"\n",
    "Last_name = \"Bilal\"\n",
    "Institute_name = \"Saylani Mass IT Traning Program\"\n",
    "Age = 19\n",
    "\n",
    "card = \"Institute name: \" + Institute_name \n",
    "print(card)"
   ]
  },
  {
   "cell_type": "code",
   "execution_count": 45,
   "id": "cad61aff-ac9d-4d3d-80f2-a5567bf1fce2",
   "metadata": {},
   "outputs": [
    {
     "name": "stdout",
     "output_type": "stream",
     "text": [
      "\n",
      "Institute name =Saylani Mass IT Traning Program\n",
      "Student Full Name =MuhammadBilal\n",
      "Age =19\n",
      "\n"
     ]
    }
   ],
   "source": [
    "# Second Method\n",
    "First_name = \"Muhammad\"\n",
    "Last_name = \"Bilal\"\n",
    "Institute_name = \"Saylani Mass IT Traning Program\"\n",
    "Age = 19\n",
    "\n",
    "card = \"\"\"\n",
    "Institute name ={}\n",
    "Student Full Name ={}{}\n",
    "Age ={}\n",
    "\"\"\".format(Institute_name,First_name,Last_name,Age)\n",
    "print(card)"
   ]
  },
  {
   "cell_type": "code",
   "execution_count": 51,
   "id": "bdcda550-5750-46e3-8b12-f1ac0796fb1b",
   "metadata": {},
   "outputs": [
    {
     "name": "stdout",
     "output_type": "stream",
     "text": [
      "\n",
      "Institute name =Saylani Mass IT Traning Program\n",
      "Student Full Name =MuhammadBilal\n",
      "Age =19\n",
      "\n"
     ]
    }
   ],
   "source": [
    "# Third Method\n",
    "First_name = \"Muhammad\"\n",
    "Last_name = \"Bilal\"\n",
    "Institute_name = \"Saylani Mass IT Traning Program\"\n",
    "Age = 19\n",
    "\n",
    "card = f\"\"\"\n",
    "Institute name ={Institute_name}\n",
    "Student Full Name ={First_name}{Last_name}\n",
    "Age ={Age}\n",
    "\"\"\"\n",
    "print(card)"
   ]
  },
  {
   "cell_type": "code",
   "execution_count": 56,
   "id": "e4a134b8-6053-41be-8496-a9c627ff78eb",
   "metadata": {},
   "outputs": [
    {
     "name": "stdout",
     "output_type": "stream",
     "text": [
      "\n",
      "institute name = Saylani Mass IT Traning Program\n",
      "student Full Name = Muhammad Bilal\n",
      "age = 19\n",
      "\n"
     ]
    }
   ],
   "source": [
    "# Fourth Method\n",
    "First_name = \"Muhammad\"\n",
    "Last_name = \"Bilal\"\n",
    "Institute_name = \"Saylani Mass IT Traning Program\"\n",
    "Age = 19\n",
    "\n",
    "card = f\"\"\"\n",
    "institute name = %s\n",
    "student Full Name = %s %s\n",
    "age = %d\n",
    "\"\"\"%(Institute_name, First_name, Last_name, Age)\n",
    "\n",
    "print(card)"
   ]
  },
  {
   "cell_type": "code",
   "execution_count": 86,
   "id": "b286fe63-1051-4b4a-afb0-08cd3b8dac48",
   "metadata": {},
   "outputs": [
    {
     "name": "stdout",
     "output_type": "stream",
     "text": [
      "\n",
      "institute name = saylani mass it traning program\n",
      "student full name = muhammad bilal\n",
      "age = 19\n",
      "\n",
      "\n",
      "institute name = saylani mass it traning program\n",
      "student full name = muhammad bilal\n",
      "age = 19\n",
      "\n",
      "5\n"
     ]
    }
   ],
   "source": [
    "# Inline which cannot change realtime scentence)\n",
    "print(card.capitalize())\n",
    "print(card.casefold())\n",
    "print(card.count(\"i\"))"
   ]
  },
  {
   "cell_type": "code",
   "execution_count": 85,
   "id": "437fb18f-acf3-41fd-b2b0-707f474d33c4",
   "metadata": {},
   "outputs": [
    {
     "name": "stdout",
     "output_type": "stream",
     "text": [
      "\n",
      "institute name = Saylani Mass IT Traning Program\n",
      "student Full Name = Muhammad Bilal\n",
      "age = 19\n",
      "\n"
     ]
    },
    {
     "data": {
      "text/plain": [
       "11"
      ]
     },
     "execution_count": 85,
     "metadata": {},
     "output_type": "execute_result"
    }
   ],
   "source": [
    "print(card)\n",
    "card.casefold().count(\"a\")"
   ]
  },
  {
   "cell_type": "code",
   "execution_count": 82,
   "id": "f8df26e3-7a63-458f-9376-0fe17defa996",
   "metadata": {},
   "outputs": [
    {
     "name": "stdout",
     "output_type": "stream",
     "text": [
      "<built-in method encode of str object at 0x00000241A903DE40>\n"
     ]
    }
   ],
   "source": [
    "txt = \"My name is Muhammad bilal\"\n",
    "\n",
    "x = txt.encode\n",
    "\n",
    "print(x)"
   ]
  },
  {
   "cell_type": "markdown",
   "id": "7e6405eb-3baf-42d5-a759-3869ac713e60",
   "metadata": {},
   "source": [
    "* Date-> 21-3-2023\n",
    "# Class 4"
   ]
  },
  {
   "cell_type": "markdown",
   "id": "dcb11463-76d9-4d51-8b8a-57edad802d3c",
   "metadata": {
    "tags": []
   },
   "source": [
    "  *     Oprand      Oprand\n",
    "  *       2     +      2 \n",
    "  *             [        \n",
    "  *             [           \n",
    "  *          Opreator      \n",
    "         \n",
    "  * The whole above process is Known as **\"Opretaion\"**\n",
    "\n",
    "* display\n",
    "* expandtab\n",
    "            "
   ]
  },
  {
   "cell_type": "code",
   "execution_count": 1,
   "id": "6b01d2e0-0abc-4256-9697-084a40988216",
   "metadata": {},
   "outputs": [
    {
     "name": "stdout",
     "output_type": "stream",
     "text": [
      "4\n"
     ]
    }
   ],
   "source": [
    "# opd opr opd (oprand & opreation)\n",
    "print(2+2) # 4 (addition Operation)"
   ]
  },
  {
   "cell_type": "code",
   "execution_count": 2,
   "id": "17586ce5-ec3c-48a2-8d9f-57f305e083ea",
   "metadata": {},
   "outputs": [
    {
     "name": "stdout",
     "output_type": "stream",
     "text": [
      "12\n",
      "7\n"
     ]
    }
   ],
   "source": [
    "# string\n",
    "num1 = \"1\"\n",
    "num2 = \"2\"\n",
    "print(num1+num2) # Addition\n",
    "# Integer\n",
    "num3 = 3\n",
    "num4 = 4\n",
    "print(num3+num4) # Concatination"
   ]
  },
  {
   "cell_type": "code",
   "execution_count": 4,
   "id": "af032e49-6bd6-425f-bfcf-853ddf93c40f",
   "metadata": {},
   "outputs": [
    {
     "ename": "IndentationError",
     "evalue": "unexpected indent (3554725686.py, line 3)",
     "output_type": "error",
     "traceback": [
      "\u001b[1;36m  File \u001b[1;32m\"C:\\Users\\DELL\\AppData\\Local\\Temp\\ipykernel_1676\\3554725686.py\"\u001b[1;36m, line \u001b[1;32m3\u001b[0m\n\u001b[1;33m    print(f\"num5:{type(num5)}  num6: {type(num6)})\u001b[0m\n\u001b[1;37m    ^\u001b[0m\n\u001b[1;31mIndentationError\u001b[0m\u001b[1;31m:\u001b[0m unexpected indent\n"
     ]
    }
   ],
   "source": [
    "num5 = 5\n",
    "num6 = \"6\"\n",
    " print(f\"num5:{type(num5)}  num6: {type(num6)})"
   ]
  },
  {
   "cell_type": "code",
   "execution_count": 12,
   "id": "12a2b600-1d32-49f6-8db1-41db370b005b",
   "metadata": {},
   "outputs": [
    {
     "name": "stdout",
     "output_type": "stream",
     "text": [
      "9\n",
      "-3\n",
      "18\n",
      "0.5\n",
      "3\n",
      "729\n",
      "0\n"
     ]
    }
   ],
   "source": [
    "x = 3 # Integer\n",
    "y = 6 # Integer\n",
    "print(x + y) # Addition\n",
    "print(x - y) # Subtraction\n",
    "print(x * y) # Multiplication\n",
    "print(x / y) # FLoat\n",
    "print(x % y) # Modulus\n",
    "print(x ** y) # Exponentiation\n",
    "print(x // y) # Floor Division"
   ]
  },
  {
   "cell_type": "code",
   "execution_count": 15,
   "id": "4a6bd857-bc5c-4491-b076-7178f779bd05",
   "metadata": {},
   "outputs": [
    {
     "name": "stdout",
     "output_type": "stream",
     "text": [
      "12\n",
      "-8\n",
      "20\n",
      "2\n",
      "8\n",
      "2\n",
      "2.75\n",
      "2\n"
     ]
    }
   ],
   "source": [
    "print(2 + 10) # Addition\n",
    "print(2 - 10) # Subtraction\n",
    "print(2 * 10) # Multiplication\n",
    "print(2 % 10) # Modulus\n",
    "print(2 ** 3) # Exponentiationprint(10 / 5) # Simple Division\n",
    "print(10 // 5) # Floor Division\n",
    "print(11 / 4) # Simple Division\n",
    "print(11 // 4) # Floor Division"
   ]
  },
  {
   "cell_type": "markdown",
   "id": "a5c34c5b-538e-43f1-b640-dd18233378ac",
   "metadata": {},
   "source": [
    "# Assinged Operator"
   ]
  },
  {
   "cell_type": "code",
   "execution_count": 16,
   "id": "c8fc5757-f9a6-42f5-8d70-655519e73170",
   "metadata": {},
   "outputs": [
    {
     "name": "stdout",
     "output_type": "stream",
     "text": [
      "5\n",
      "6\n",
      "7\n"
     ]
    }
   ],
   "source": [
    "a = 5 # 5\n",
    "print(a)\n",
    "a = a + 1 # 6\n",
    "print(a)\n",
    "a += 1 # 7\n",
    "print(a)"
   ]
  },
  {
   "cell_type": "code",
   "execution_count": 18,
   "id": "7ac61156-b66b-4023-9870-8018726edadf",
   "metadata": {},
   "outputs": [
    {
     "name": "stdout",
     "output_type": "stream",
     "text": [
      "5\n",
      "4\n",
      "3\n"
     ]
    }
   ],
   "source": [
    "a = 5 \n",
    "print(a)\n",
    "a = a - 1 \n",
    "print(a)\n",
    "a -= 1 \n",
    "print(a)"
   ]
  },
  {
   "cell_type": "code",
   "execution_count": 19,
   "id": "12f6750e-2028-481e-9581-fd5e45a6df03",
   "metadata": {},
   "outputs": [
    {
     "name": "stdout",
     "output_type": "stream",
     "text": [
      "5\n",
      "5\n",
      "5\n"
     ]
    }
   ],
   "source": [
    "a = 5 \n",
    "print(a)\n",
    "a = a * 1 \n",
    "print(a)\n",
    "a *= 1 \n",
    "print(a)"
   ]
  },
  {
   "cell_type": "code",
   "execution_count": 20,
   "id": "f06e04ef-dfa8-453f-a6d2-46e4ee339114",
   "metadata": {},
   "outputs": [
    {
     "name": "stdout",
     "output_type": "stream",
     "text": [
      "5\n",
      "5.0\n",
      "5.0\n"
     ]
    }
   ],
   "source": [
    "a = 5 \n",
    "print(a)\n",
    "a = a / 1 \n",
    "print(a)\n",
    "a /= 1 \n",
    "print(a)"
   ]
  },
  {
   "cell_type": "code",
   "execution_count": 21,
   "id": "6d65e605-8303-4e86-b75c-a42b05e03bb0",
   "metadata": {},
   "outputs": [
    {
     "name": "stdout",
     "output_type": "stream",
     "text": [
      "5\n",
      "0\n",
      "0\n"
     ]
    }
   ],
   "source": [
    "a = 5 \n",
    "print(a)\n",
    "a = a % 1 \n",
    "print(a)\n",
    "a %= 1 \n",
    "print(a)"
   ]
  },
  {
   "cell_type": "code",
   "execution_count": 22,
   "id": "eb0b1202-a7c5-4e0a-a4ec-65034b85bc86",
   "metadata": {},
   "outputs": [
    {
     "name": "stdout",
     "output_type": "stream",
     "text": [
      "1\n",
      "3\n",
      "7\n",
      "5\n"
     ]
    }
   ],
   "source": [
    "a = 1   # Assing new value\n",
    "print(a)\n",
    "a = 3   # Overwrite old value with new value 3\n",
    "print(a)\n",
    "a = 7   # Overwrite value\n",
    "print(a)\n",
    "a = 5   # Overwrite value\n",
    "print(a)"
   ]
  },
  {
   "cell_type": "code",
   "execution_count": 27,
   "id": "2064d5f8-9ff1-480c-aa6f-a1f6e9c7908e",
   "metadata": {},
   "outputs": [
    {
     "name": "stdout",
     "output_type": "stream",
     "text": [
      "3\n",
      "64\n"
     ]
    }
   ],
   "source": [
    "# and opreator\n",
    "b = 11\n",
    "b &= 3\n",
    "print(b)\n",
    "c = 65\n",
    "c = c & 66\n",
    "print(c)"
   ]
  },
  {
   "cell_type": "markdown",
   "id": "5bdd153d-8622-4bbf-a538-c13d3f61131a",
   "metadata": {},
   "source": [
    "# Comparsion Operator "
   ]
  },
  {
   "cell_type": "code",
   "execution_count": 45,
   "id": "7f0b83dc-b6bc-462a-ab22-a1677620526b",
   "metadata": {},
   "outputs": [
    {
     "name": "stdout",
     "output_type": "stream",
     "text": [
      "True\n",
      "False\n",
      "False\n",
      "True\n",
      "True\n",
      "True\n",
      "False\n",
      "False\n",
      "False\n",
      "True\n"
     ]
    }
   ],
   "source": [
    "a = 5\n",
    "b = 5\n",
    "print(a == b)\n",
    "a = 5\n",
    "b = 9\n",
    "print(a == b)\n",
    "a = 5\n",
    "b = 8\n",
    "print(a > b)\n",
    "a = 5\n",
    "b = 8\n",
    "print(a < b)\n",
    "a = 5\n",
    "b = 5\n",
    "print(a <= b)\n",
    "a = 5\n",
    "b = 5\n",
    "print(a >= b)\n",
    "a = 5\n",
    "b = 5\n",
    "print(a != b)\n",
    "a = \"65\"\n",
    "b = \"66\"\n",
    "print(a > b)\n",
    "print(a == b)\n",
    "print(a < b)"
   ]
  },
  {
   "cell_type": "markdown",
   "id": "9e0bb230-3fe6-46f1-8d6c-d8f6dd3bda27",
   "metadata": {},
   "source": [
    "# Ascii Code"
   ]
  },
  {
   "cell_type": "code",
   "execution_count": 42,
   "id": "172bc65a-4cde-4948-920f-c420bb3990d1",
   "metadata": {},
   "outputs": [
    {
     "data": {
      "text/plain": [
       "'A'"
      ]
     },
     "execution_count": 42,
     "metadata": {},
     "output_type": "execute_result"
    }
   ],
   "source": [
    "chr(65)"
   ]
  },
  {
   "cell_type": "code",
   "execution_count": 43,
   "id": "a3d6ec2c-9c33-47e0-9bd5-18da9a32b95c",
   "metadata": {},
   "outputs": [
    {
     "data": {
      "text/plain": [
       "55"
      ]
     },
     "execution_count": 43,
     "metadata": {},
     "output_type": "execute_result"
    }
   ],
   "source": [
    "ord('7')"
   ]
  },
  {
   "cell_type": "markdown",
   "id": "c659fd30-f755-47fb-8b80-fa9c810d6fcd",
   "metadata": {},
   "source": [
    "# Logical Operator\n",
    "Logical operators are used to combine conditional statement."
   ]
  },
  {
   "cell_type": "code",
   "execution_count": 47,
   "id": "695ec8cd-9196-4417-96e1-e3c498613665",
   "metadata": {},
   "outputs": [
    {
     "name": "stdout",
     "output_type": "stream",
     "text": [
      "True\n",
      "False\n",
      "True\n",
      "False\n",
      "False\n",
      "False\n",
      "True\n",
      "True\n",
      "True\n",
      "True\n",
      "True\n",
      "False\n",
      "False\n",
      "True\n"
     ]
    }
   ],
   "source": [
    "#        (And) Logical Operator\n",
    "#       L   op  L   op   L   op   L\n",
    "print(True and True and True and True) # True\n",
    "print(True and True and False and True) # False\n",
    "print(True and True and True and True) # True\n",
    "print(False and True and False and True) # False\n",
    "print(False and True and False and False) # False\n",
    "print(False and False and False and False) # False\n",
    "#       (Or) Logical Operator\n",
    "print(True or True or True or True) # True\n",
    "print(True or True or False or True) # True\n",
    "print(True and True or True or True) # True\n",
    "print(False or True or False or True) # True\n",
    "print(False or True or False or False) # True\n",
    "print(False or False or False or False) # False\n",
    "#       (Not) Logical Operator\n",
    "print(not True) # False\n",
    "print(not False) # True"
   ]
  },
  {
   "cell_type": "code",
   "execution_count": 51,
   "id": "8df23180-5596-42b3-8c69-fd03a9d41ac4",
   "metadata": {},
   "outputs": [
    {
     "name": "stdin",
     "output_type": "stream",
     "text": [
      "Enter your password Pakistan\n"
     ]
    },
    {
     "name": "stdout",
     "output_type": "stream",
     "text": [
      "False\n",
      "True\n",
      "False\n",
      "Pakistan\n"
     ]
    }
   ],
   "source": [
    "password = input('Enter your password')\n",
    "\n",
    "print(password == 'abc') # False\n",
    "print(not password == 'abc') # True\n",
    "print(not password) # False\n",
    "print(password) # Pakistan"
   ]
  },
  {
   "cell_type": "markdown",
   "id": "851ff5b3-2b1b-4895-948d-a65c62b890b8",
   "metadata": {},
   "source": [
    "# Deep copy \n",
    "* completely 2 different individual things\n",
    "# Shallow copy \n",
    "* Has different name does the same things"
   ]
  },
  {
   "cell_type": "markdown",
   "id": "909ddc82-1acf-4382-8539-43c00a8842ce",
   "metadata": {},
   "source": [
    "# Shallow Copy"
   ]
  },
  {
   "cell_type": "code",
   "execution_count": 54,
   "id": "b5da7741-0862-492b-b771-0af194990951",
   "metadata": {},
   "outputs": [
    {
     "name": "stdout",
     "output_type": "stream",
     "text": [
      "2314051545424 2314051545424 2314051545424\n",
      "2\n",
      "2\n",
      "2\n"
     ]
    }
   ],
   "source": [
    "# Example of shallow copy\n",
    "a = 2\n",
    "b = 2\n",
    "c = 2\n",
    "print(id(a), id(b), id(c))\n",
    "print(a)\n",
    "print(b)\n",
    "print(c)"
   ]
  },
  {
   "cell_type": "code",
   "execution_count": 56,
   "id": "04bf0ad8-91a2-4204-babb-ab3e18aa8b6a",
   "metadata": {},
   "outputs": [
    {
     "name": "stdout",
     "output_type": "stream",
     "text": [
      "2314051545424 2314058441968\n"
     ]
    }
   ],
   "source": [
    "a = 2\n",
    "b = '2'\n",
    "print(id(a),id(b))"
   ]
  },
  {
   "cell_type": "code",
   "execution_count": 57,
   "id": "00f4de21-2612-4d39-81af-37718941d54e",
   "metadata": {},
   "outputs": [
    {
     "name": "stdout",
     "output_type": "stream",
     "text": [
      "2314051545520\n"
     ]
    }
   ],
   "source": [
    "b = 5\n",
    "print(id(b))"
   ]
  },
  {
   "cell_type": "markdown",
   "id": "120fd5cd-85f8-4ade-ad9b-6e6fa21e1580",
   "metadata": {},
   "source": [
    "# Deep Copy"
   ]
  },
  {
   "cell_type": "code",
   "execution_count": 61,
   "id": "f6a48b9f-f4d6-46db-9d34-90cfd7a4ff50",
   "metadata": {},
   "outputs": [
    {
     "name": "stdout",
     "output_type": "stream",
     "text": [
      "['bilal'] ['bilal']\n",
      "2314171061184 2314169568640\n",
      "True\n",
      "False\n",
      "True\n"
     ]
    }
   ],
   "source": [
    "# Example of Deep copy\n",
    "saylani = [\"bilal\"]\n",
    "student = saylani.copy()\n",
    "\n",
    "print(saylani,student)\n",
    "print(id(saylani),id(student))\n",
    "print(saylani == student)\n",
    "print(saylani is student) # Objectives are different (physical aren't same)\n",
    "print(saylani is not student)"
   ]
  },
  {
   "cell_type": "markdown",
   "id": "50eb2ce9-9819-4ced-9986-80b88309e063",
   "metadata": {},
   "source": [
    "# Membership Operator\n",
    "Membership operator are used to test if a sequence is presented in an object"
   ]
  },
  {
   "cell_type": "code",
   "execution_count": 62,
   "id": "35a69938-90a7-4806-8513-896f29976209",
   "metadata": {},
   "outputs": [
    {
     "name": "stdout",
     "output_type": "stream",
     "text": [
      "False\n",
      "True\n",
      "False\n"
     ]
    }
   ],
   "source": [
    "message = \"pakistan Zinda bad we love oyr country!\"\n",
    "print('zinda' in message)\n",
    "print('Zinda' in message)\n",
    "print('Bilal' in message)"
   ]
  },
  {
   "cell_type": "code",
   "execution_count": 63,
   "id": "f8d7aa82-6020-4955-8780-db51d8365df6",
   "metadata": {},
   "outputs": [
    {
     "name": "stdout",
     "output_type": "stream",
     "text": [
      "True\n",
      "True\n",
      "False\n",
      "False\n"
     ]
    }
   ],
   "source": [
    "names = ['Hamza','Qasim','Bilal','Basit']\n",
    "\n",
    "print('Basit' in names)\n",
    "print('Bilal' in names)\n",
    "print('Naeem' in names)\n",
    "print('Qasim' not in names)"
   ]
  },
  {
   "cell_type": "markdown",
   "id": "7fce0736-c2a1-45b9-8376-f6a94ed42dc3",
   "metadata": {},
   "source": [
    "* Date->24-03-2023\n",
    "# Class 5"
   ]
  },
  {
   "cell_type": "markdown",
   "id": "385c0bbf-bfcd-4f73-ae17-50555e52fb89",
   "metadata": {},
   "source": [
    "* #### Data Type (List)\n",
    "###### Python is a dynamic data type which is called Typing Casting.\n",
    "* List starts with `[` and ends with `]`.\n",
    "* Value/item `stores any type of data`.\n",
    "* Seprator betwwen 2 items\n",
    "* ### Indexing\n",
    "* Positve indexing `--->` Left to Right always starts with `Zero` .\n",
    "\n",
    "* Negative indexing `--->` Right to Left always ends with `Zero` .\n",
    "* Extracting value from list with index value `variable-name[index-name` .\n",
    "* The value of indexing will be picked up from left to right .\n",
    "\n",
    "#### Slicing\n",
    "* `variable[star:end:step]` All parameters are numbers\n",
    "    * **start** Include\n",
    "    * **end** Exclude (end-1)\n",
    "    * **step** Sequence (--> 1)"
   ]
  },
  {
   "cell_type": "code",
   "execution_count": 10,
   "id": "7faf88b9-1df7-442e-8955-986e1b207e7b",
   "metadata": {},
   "outputs": [
    {
     "name": "stdout",
     "output_type": "stream",
     "text": [
      "Bilal Afzal Umer Akmal\n"
     ]
    }
   ],
   "source": [
    "stdid1 = 1\n",
    "stdname1 = 'Bilal'\n",
    "stdfname1 = 'Afzal'\n",
    "\n",
    "stdid2 = 2\n",
    "stdname2 = 'Umer'\n",
    "stdfname2 = 'Akmal'\n",
    "\n",
    "print(stdname1,stdfname1,stdname2,stdfname2)"
   ]
  },
  {
   "cell_type": "code",
   "execution_count": 7,
   "id": "10f92903-4f0d-40c3-ac44-17c613696d96",
   "metadata": {},
   "outputs": [
    {
     "name": "stdout",
     "output_type": "stream",
     "text": [
      "['Atif', 'Kashif', 'Suleman', 10010, 20020, 30030, False]\n"
     ]
    }
   ],
   "source": [
    "names = ['Atif','Kashif','Suleman',10010,20020,30030,True & False]\n",
    "print(names)"
   ]
  },
  {
   "cell_type": "code",
   "execution_count": 12,
   "id": "fc9ebdf1-8270-43a1-8fa7-adcf288ae851",
   "metadata": {},
   "outputs": [
    {
     "name": "stdout",
     "output_type": "stream",
     "text": [
      "['Bilal', 'Zohair', 'Basit', 10010, 20020, 30030, True]\n",
      "30030\n",
      "30030\n",
      "Bilal Zohair Basit\n",
      "Bilal Zohair Basit\n"
     ]
    }
   ],
   "source": [
    "# Indexing\n",
    "#---->     0        1        2       3     4     5     6      (Positive Indexing)\n",
    "names = ['Bilal','Zohair','Basit',10010,20020,30030,True]\n",
    "#---->    -7       -6        -5      -4    -3    -2    -1     (Negative Indexing)\n",
    "print(names)\n",
    "print(names[-2]) \n",
    "print(names[5])\n",
    "print(names[0],names[1],names[2]) # (PI)\n",
    "print(names[-7],names[-6],names[-5]) #  (NI)"
   ]
  },
  {
   "cell_type": "markdown",
   "id": "b1f00153-19d7-4a16-befb-39d5b712f75d",
   "metadata": {},
   "source": [
    "* ### Old  Programming code style for printing all aray Values"
   ]
  },
  {
   "cell_type": "code",
   "execution_count": 16,
   "id": "6423b77c-66af-46db-b463-fd75de4904a1",
   "metadata": {},
   "outputs": [
    {
     "name": "stdout",
     "output_type": "stream",
     "text": [
      "Zohair\n",
      "Basit\n",
      "10010\n",
      "20020\n"
     ]
    }
   ],
   "source": [
    "names = ['Bilal','Zohair','Basit',10010,20020,30030,True]\n",
    "counter = 1\n",
    "while counter < 5:\n",
    "    print(names[counter])\n",
    "    counter += 1"
   ]
  },
  {
   "cell_type": "markdown",
   "id": "558f2085-5300-41a5-831c-6aa888544fa2",
   "metadata": {},
   "source": [
    "* ### Now Print with Pythonic Style"
   ]
  },
  {
   "cell_type": "code",
   "execution_count": 14,
   "id": "b3074bec-1e2e-4f64-8540-b76315d674df",
   "metadata": {},
   "outputs": [
    {
     "name": "stdout",
     "output_type": "stream",
     "text": [
      "Bilal\n",
      "Zohair\n",
      "Basit\n",
      "10010\n",
      "20020\n",
      "30030\n",
      "True\n"
     ]
    }
   ],
   "source": [
    "names = ['Bilal','Zohair','Basit',10010,20020,30030,True]\n",
    "for name in names:\n",
    "    print(name)"
   ]
  },
  {
   "cell_type": "markdown",
   "id": "bd4b26b2-0be5-4021-84ba-0515ff3a403e",
   "metadata": {},
   "source": [
    "* ### Slicing\n",
    "* In Slicing, If the `step` will not be given. The slicing won't work.\n",
    "* By default the values goes from left to right.\n",
    "* If the `end` is not given. It will pick it on its own."
   ]
  },
  {
   "cell_type": "code",
   "execution_count": 21,
   "id": "b8b27fc7-abbc-43d5-90cc-03c9369b6f03",
   "metadata": {},
   "outputs": [
    {
     "name": "stdout",
     "output_type": "stream",
     "text": [
      "['Zohair', 'Basit', 10010, 20020, 30030]\n",
      "[True, 20020, 'Basit']\n",
      "['Bilal', 'Zohair', 'Basit', 10010, 20020, 30030, True]\n",
      "['Bilal', 'Basit', 20020, True]\n",
      "['Bilal', 10010, True]\n",
      "[True, 30030, 20020, 10010, 'Basit', 'Zohair', 'Bilal']\n",
      "[]\n",
      "[20020, 10010, 'Basit', 'Zohair']\n",
      "['Bilal', 'Zohair', 'Basit', 10010]\n"
     ]
    }
   ],
   "source": [
    "#---->     0        1        2       3     4     5     6\n",
    "names = ['Bilal','Zohair','Basit',10010,20020,30030,True]\n",
    "#---->    -7       -6        -5      -4    -3    -2    -1\n",
    "print(names[1:6])\n",
    "print(names[-1:-7:-2])\n",
    "print(names[::1])\n",
    "print(names[::2])\n",
    "print(names[::3])\n",
    "print(names[::-1])\n",
    "print(names[4:-7])\n",
    "print(names[4:-7:-1])\n",
    "print(names[-7:4])"
   ]
  },
  {
   "cell_type": "code",
   "execution_count": 25,
   "id": "91af7905-9428-4f00-b680-7de34b026f13",
   "metadata": {},
   "outputs": [
    {
     "name": "stdout",
     "output_type": "stream",
     "text": [
      "['Bilal', 'Zohair', 'Basit']\n",
      "['Bilal', 10010]\n",
      "['Bilal', 'Zohair', 'Basit', 10010, 20020, 30030, True]\n"
     ]
    }
   ],
   "source": [
    "#---->     0        1        2       3     4     5     6\n",
    "names = ['Bilal','Zohair','Basit',10010,20020,30030,True,'Pakistan']\n",
    "#---->    -7       -6        -5      -4    -3    -2    -1\n",
    "\n",
    "print(names[:3])\n",
    "print(names[:6:3])\n",
    "print(names[0:-1:1])"
   ]
  },
  {
   "cell_type": "markdown",
   "id": "c79d5e27-04a3-46bb-8814-4a62ad352ab1",
   "metadata": {},
   "source": [
    "* ### Apply Opreators on data types"
   ]
  },
  {
   "cell_type": "code",
   "execution_count": 26,
   "id": "ff2591ff-009f-45d8-9686-85d2732e758c",
   "metadata": {},
   "outputs": [
    {
     "data": {
      "text/plain": [
       "['Pakistan', 1000, 2000, 'abc', 'xyz']"
      ]
     },
     "execution_count": 26,
     "metadata": {},
     "output_type": "execute_result"
    }
   ],
   "source": [
    "l1 = ['Pakistan',1000,2000]\n",
    "l2 = ['abc','xyz']\n",
    "l1 + l2"
   ]
  },
  {
   "cell_type": "code",
   "execution_count": 27,
   "id": "7f89d035-303c-44d0-8585-5b1ce0422846",
   "metadata": {},
   "outputs": [
    {
     "data": {
      "text/plain": [
       "['Pakistan', 1000, 2000, 'Pakistan', 1000, 2000, 'Pakistan', 1000, 2000]"
      ]
     },
     "execution_count": 27,
     "metadata": {},
     "output_type": "execute_result"
    }
   ],
   "source": [
    "l1 * 3"
   ]
  },
  {
   "cell_type": "code",
   "execution_count": 30,
   "id": "e56d1459-2ea1-43fa-aa5e-0271f388f673",
   "metadata": {},
   "outputs": [
    {
     "data": {
      "text/plain": [
       "'pakistanpakistanpakistan'"
      ]
     },
     "execution_count": 30,
     "metadata": {},
     "output_type": "execute_result"
    }
   ],
   "source": [
    "'pakistan' * 3"
   ]
  },
  {
   "cell_type": "markdown",
   "id": "4e452f24-f71e-4a4a-b9ed-a8dcbd1060a3",
   "metadata": {},
   "source": [
    "* ### List data type methods"
   ]
  },
  {
   "cell_type": "code",
   "execution_count": 32,
   "id": "b7269f2a-27ac-4482-84c8-21a72e9a92a2",
   "metadata": {},
   "outputs": [
    {
     "data": {
      "text/plain": [
       "['append',\n",
       " 'clear',\n",
       " 'copy',\n",
       " 'count',\n",
       " 'extend',\n",
       " 'index',\n",
       " 'insert',\n",
       " 'pop',\n",
       " 'remove',\n",
       " 'reverse',\n",
       " 'sort']"
      ]
     },
     "execution_count": 32,
     "metadata": {},
     "output_type": "execute_result"
    }
   ],
   "source": [
    "[i for i in dir(list) if \"__\" not in i]"
   ]
  },
  {
   "cell_type": "code",
   "execution_count": null,
   "id": "d691d0c9-b06b-4f26-9a9f-5e1d5547b3c3",
   "metadata": {},
   "outputs": [
    {
     "name": "stdout",
     "output_type": "stream",
     "text": [
      "['Bilal', 'Zohair', 'Basit', [1, 2, 3]]\n"
     ]
    }
   ],
   "source": [
    "# Append -> appends value as an item\n",
    "names =[]\n",
    "names.append('Bilal')\n",
    "names.append('Zohair')\n",
    "names.append('Basit')\n",
    "names.append([1,2,3])\n",
    "\n",
    "print(names)"
   ]
  },
  {
   "cell_type": "code",
   "execution_count": 40,
   "id": "89e8eef7-6b0b-46e3-9817-db7c5866e1e5",
   "metadata": {},
   "outputs": [
    {
     "name": "stdout",
     "output_type": "stream",
     "text": [
      "['pakistan', 1000, 2000]\n",
      "[]\n"
     ]
    }
   ],
   "source": [
    "l3 = ['pakistan',1000,2000]\n",
    "print(l3)\n",
    "l3.clear()\n",
    "print(l3)"
   ]
  },
  {
   "cell_type": "markdown",
   "id": "98964281-5e97-4fa2-86c1-9d675eef886c",
   "metadata": {},
   "source": [
    "* ### Remove value from list search with string"
   ]
  },
  {
   "cell_type": "code",
   "execution_count": 42,
   "id": "9fbd50ff-3c93-4f74-8e12-2fb29f11158d",
   "metadata": {},
   "outputs": [
    {
     "name": "stdin",
     "output_type": "stream",
     "text": [
      "enter Item:  a\n"
     ]
    },
    {
     "name": "stdout",
     "output_type": "stream",
     "text": [
      "a <class 'str'>\n",
      "0 <class 'int'>\n"
     ]
    },
    {
     "data": {
      "text/plain": [
       "'a'"
      ]
     },
     "execution_count": 42,
     "metadata": {},
     "output_type": "execute_result"
    }
   ],
   "source": [
    "l1 = ['a','b','c','a','x','y','z']\n",
    "remove_item = input(\"enter Item: \")\n",
    "indx = l1.index(remove_item)\n",
    "print(remove_item,type(remove_item))\n",
    "print(indx,type(indx))\n",
    "l1.pop(indx)"
   ]
  },
  {
   "cell_type": "code",
   "execution_count": 48,
   "id": "b961ec04-3725-40b2-95b5-7504927ff5ed",
   "metadata": {},
   "outputs": [
    {
     "name": "stdout",
     "output_type": "stream",
     "text": [
      "['a', 'b', 'c', 'a', 'y', 'z']\n"
     ]
    }
   ],
   "source": [
    "l1 = ['a','b','c','a','x','y','z']\n",
    "l1.remove('x')\n",
    "print(l1)"
   ]
  },
  {
   "cell_type": "code",
   "execution_count": 50,
   "id": "aec50259-0be4-4a5d-a926-90ba27cabf01",
   "metadata": {},
   "outputs": [
    {
     "name": "stdin",
     "output_type": "stream",
     "text": [
      "Enter item:  a\n"
     ]
    },
    {
     "name": "stdout",
     "output_type": "stream",
     "text": [
      "['b', 'c', 'a', 'x', 'y', 'z']\n"
     ]
    }
   ],
   "source": [
    "l1 = ['a','b','c','a','x','y','z']\n",
    "remove_item = input(\"Enter item: \")\n",
    "l1.remove(remove_item)\n",
    "print(l1)"
   ]
  },
  {
   "cell_type": "code",
   "execution_count": 53,
   "id": "ca3c5433-7bc4-4ee0-a139-43826c7fd80a",
   "metadata": {},
   "outputs": [
    {
     "name": "stdin",
     "output_type": "stream",
     "text": [
      "Enter item:  b\n"
     ]
    },
    {
     "name": "stdout",
     "output_type": "stream",
     "text": [
      "None\n",
      "['a', 'c', 'a', 'x', 'y', 'z']\n"
     ]
    }
   ],
   "source": [
    "l1 = ['a','b','c','a','x','y','z']\n",
    "remove_item = input(\"Enter item: \")\n",
    "for i in range(l1.count(remove_item)):\n",
    "    a = l1.remove(remove_item)\n",
    "    print(a)\n",
    "print(l1)"
   ]
  },
  {
   "cell_type": "markdown",
   "id": "eeb88878-b071-4c30-9059-a56031110019",
   "metadata": {},
   "source": [
    "* Date->28-03-2023\n",
    "# Class6"
   ]
  },
  {
   "cell_type": "markdown",
   "id": "4494f857-a614-4dac-8323-1c36cfc03ceb",
   "metadata": {},
   "source": [
    "* ### List comprehansive .\n",
    "* for loop semi colon `:` is important .\n",
    "* When the enter button is clicked an `structure block` is formed .\n",
    "* List comprehansive means concerting a loop into a list bt adding `[]` on the start & end .\n",
    "* Nested Loop means making a list in a list .\n",
    "* range\n",
    "* Tuple\n",
    "* Set\n",
    "* Dictatinory"
   ]
  },
  {
   "cell_type": "code",
   "execution_count": 10,
   "id": "e33156ef-52c3-49f0-89c4-294656dc30a7",
   "metadata": {},
   "outputs": [
    {
     "data": {
      "text/plain": [
       "range(0, 11)"
      ]
     },
     "execution_count": 10,
     "metadata": {},
     "output_type": "execute_result"
    }
   ],
   "source": [
    "range(11)"
   ]
  },
  {
   "cell_type": "code",
   "execution_count": null,
   "id": "28d93a2c-b132-40f7-bc26-3b7ee11f49c9",
   "metadata": {},
   "outputs": [
    {
     "name": "stdout",
     "output_type": "stream",
     "text": [
      "0\n",
      "1\n",
      "2\n",
      "3\n",
      "4\n",
      "5\n",
      "6\n",
      "7\n",
      "8\n",
      "9\n",
      "10\n"
     ]
    }
   ],
   "source": [
    "for i in range(11):\n",
    "    print(i)   "
   ]
  },
  {
   "cell_type": "code",
   "execution_count": 8,
   "id": "7ac0f9df-d97a-49cc-956c-5202cfadeb78",
   "metadata": {},
   "outputs": [
    {
     "name": "stdout",
     "output_type": "stream",
     "text": [
      "2 X 0 = 0\n",
      "2 X 1 = 2\n",
      "2 X 2 = 4\n",
      "2 X 3 = 6\n",
      "2 X 4 = 8\n",
      "2 X 5 = 10\n",
      "2 X 6 = 12\n",
      "2 X 7 = 14\n",
      "2 X 8 = 16\n",
      "2 X 9 = 18\n",
      "2 X 10 = 20\n"
     ]
    }
   ],
   "source": [
    "for i in range(11):\n",
    "    print(f'{2} X {i} = {2*i}')"
   ]
  },
  {
   "cell_type": "code",
   "execution_count": 29,
   "id": "d9c36a3a-f35e-4a19-8da7-5a73d53797f6",
   "metadata": {},
   "outputs": [
    {
     "name": "stdin",
     "output_type": "stream",
     "text": [
      "Enter the number for table: 9\n"
     ]
    },
    {
     "name": "stdout",
     "output_type": "stream",
     "text": [
      "9 X 0 = 0\n",
      "9 X 1 = 9\n",
      "9 X 2 = 18\n",
      "9 X 3 = 27\n",
      "9 X 4 = 36\n",
      "9 X 5 = 45\n",
      "9 X 6 = 54\n",
      "9 X 7 = 63\n",
      "9 X 8 = 72\n",
      "9 X 9 = 81\n",
      "9 X 10 = 90\n"
     ]
    }
   ],
   "source": [
    "Table = int(input(\"Enter the number for table:\"))\n",
    "for i in range(11):\n",
    "    print(f\"{Table} X {i} = {Table*i}\")"
   ]
  },
  {
   "cell_type": "code",
   "execution_count": 9,
   "id": "4b8141c2-0f17-4768-9eae-da1308ba68d7",
   "metadata": {},
   "outputs": [
    {
     "name": "stdout",
     "output_type": "stream",
     "text": [
      "itreation no 1\n",
      "itreation no 2\n",
      "itreation no 3\n",
      "itreation no 4\n",
      "itreation no 5\n",
      "itreation no 6\n",
      "itreation no 7\n",
      "itreation no 8\n",
      "itreation no 9\n",
      "itreation no 10\n"
     ]
    }
   ],
   "source": [
    "table = int\n",
    "for i in range(1,11):\n",
    "    print(\"itreation no\",i)"
   ]
  },
  {
   "cell_type": "code",
   "execution_count": 12,
   "id": "2902ddea-89c4-447b-ba57-56bc330fac99",
   "metadata": {},
   "outputs": [
    {
     "name": "stdout",
     "output_type": "stream",
     "text": [
      "itreation no 1\n",
      "itreation no 2\n",
      "itreation no 3\n",
      "itreation no 4\n",
      "itreation no 5\n",
      "itreation no 6\n",
      "itreation no 7\n",
      "itreation no 8\n",
      "itreation no 9\n",
      "itreation no 10\n"
     ]
    },
    {
     "data": {
      "text/plain": [
       "[None, None, None, None, None, None, None, None, None, None]"
      ]
     },
     "execution_count": 12,
     "metadata": {},
     "output_type": "execute_result"
    }
   ],
   "source": [
    "# List comprehansive \n",
    "[print(\"itreation no\",i)for i in range(1,11)]"
   ]
  },
  {
   "cell_type": "code",
   "execution_count": 15,
   "id": "f4354bfc-687a-4de3-84cf-ef6598e287ca",
   "metadata": {},
   "outputs": [
    {
     "data": {
      "text/plain": [
       "[1, 2, 3, 4, 5, 6, 7, 8, 9, 10]"
      ]
     },
     "execution_count": 15,
     "metadata": {},
     "output_type": "execute_result"
    }
   ],
   "source": [
    "[i for i in range(1,11)]"
   ]
  },
  {
   "cell_type": "code",
   "execution_count": 16,
   "id": "66e3705b-b6b1-4bd5-a5e5-b16fffd80dcd",
   "metadata": {},
   "outputs": [
    {
     "data": {
      "text/plain": [
       "[16, 26, 36, 46, 56, 66, 76, 86, 96, 106]"
      ]
     },
     "execution_count": 16,
     "metadata": {},
     "output_type": "execute_result"
    }
   ],
   "source": [
    "[i*10+6-2//3 for i in range(1,11)]"
   ]
  },
  {
   "cell_type": "code",
   "execution_count": 21,
   "id": "68fc80e1-d391-4207-8322-f95213436e4c",
   "metadata": {},
   "outputs": [
    {
     "name": "stdout",
     "output_type": "stream",
     "text": [
      "(1, 1) \n",
      "(2, 1) (2, 2) \n",
      "(3, 1) (3, 2) (3, 3) \n",
      "(4, 1) (4, 2) (4, 3) (4, 4) \n",
      "(5, 1) (5, 2) (5, 3) (5, 4) (5, 5) \n",
      "(6, 1) (6, 2) (6, 3) (6, 4) (6, 5) (6, 6) \n",
      "(7, 1) (7, 2) (7, 3) (7, 4) (7, 5) (7, 6) (7, 7) \n",
      "(8, 1) (8, 2) (8, 3) (8, 4) (8, 5) (8, 6) (8, 7) (8, 8) \n",
      "(9, 1) (9, 2) (9, 3) (9, 4) (9, 5) (9, 6) (9, 7) (9, 8) (9, 9) \n",
      "(10, 1) (10, 2) (10, 3) (10, 4) (10, 5) (10, 6) (10, 7) (10, 8) (10, 9) (10, 10) \n"
     ]
    }
   ],
   "source": [
    "for i in range(1,11):\n",
    "    for j in range(1,i+1):\n",
    "        print((i,j),end=\" \")\n",
    "    print()"
   ]
  },
  {
   "cell_type": "code",
   "execution_count": 24,
   "id": "a8f9533d-feb7-4237-86b3-c3c2781968c4",
   "metadata": {},
   "outputs": [
    {
     "name": "stdout",
     "output_type": "stream",
     "text": [
      "[1, 2, 3]\n",
      "1\n"
     ]
    }
   ],
   "source": [
    "data = [[1,2,3],\n",
    "        [4,5,6],\n",
    "        [7,8,9]]\n",
    "print(data[0])\n",
    "print(data[0][0])"
   ]
  },
  {
   "cell_type": "code",
   "execution_count": 30,
   "id": "59c4ada6-4c38-4bb9-b466-a7c9a443259f",
   "metadata": {},
   "outputs": [
    {
     "name": "stdout",
     "output_type": "stream",
     "text": [
      "[1, 2, 3] 0\n",
      "[4, 5, 6] 1\n",
      "[7, 8, 9] 2\n"
     ]
    }
   ],
   "source": [
    "data = [[1,2,3],\n",
    "        [4,5,6],\n",
    "        [7,8,9]]\n",
    "for row in range(len(data)):\n",
    "    print(data[row],row)"
   ]
  },
  {
   "cell_type": "code",
   "execution_count": 31,
   "id": "b592e53c-caca-4af4-b3d9-ef773684dce8",
   "metadata": {},
   "outputs": [
    {
     "name": "stdout",
     "output_type": "stream",
     "text": [
      "1 2 3 \n",
      "4 5 6 \n",
      "7 8 9 \n"
     ]
    }
   ],
   "source": [
    "data = [[1,2,3],\n",
    "        [4,5,6],\n",
    "        [7,8,9]]\n",
    "for row in range(len(data)):\n",
    "    for col in range(len(data[row])):\n",
    "        print(data[row][col],end=\" \")\n",
    "    \n",
    "    print()"
   ]
  },
  {
   "cell_type": "code",
   "execution_count": 34,
   "id": "71785e44-ee6a-42ba-888f-43a60042242f",
   "metadata": {},
   "outputs": [
    {
     "name": "stdout",
     "output_type": "stream",
     "text": [
      "1 2 3 \n",
      "4 5 6 \n",
      "7 8 9 \n"
     ]
    }
   ],
   "source": [
    "data = [[1,2,3],\n",
    "        [4,5,6],\n",
    "        [7,8,9]]\n",
    "for row in data:\n",
    "    for col in row :\n",
    "        print(col,end=\" \")\n",
    "    print()"
   ]
  },
  {
   "cell_type": "code",
   "execution_count": 33,
   "id": "e7b482fc-d45c-412b-a728-bdd7afa31e0d",
   "metadata": {},
   "outputs": [
    {
     "data": {
      "text/plain": [
       "[1, 2, 3, 4, 5, 6, 7, 8, 9]"
      ]
     },
     "execution_count": 33,
     "metadata": {},
     "output_type": "execute_result"
    }
   ],
   "source": [
    "data = [[1,2,3],\n",
    "        [4,5,6],\n",
    "        [7,8,9]]\n",
    "\n",
    "[data[row][col] for row in range(len(data)) for col in range(len(data[row]))]"
   ]
  },
  {
   "cell_type": "markdown",
   "id": "2d8c12d0-5421-4e90-a15a-72af619b94f3",
   "metadata": {},
   "source": [
    "* ## Tuple\n",
    "* The tuple is define as it contains round bracket `()` & the second is coma `,` seprated values .\n",
    "* The list define as it contains square bracket `[]` .\n",
    "* Tuple isn't fully immuteable .\n",
    "* `Tuple` is immuteable & `List` is muteable .\n",
    "* `Muteable` which is change able .\n",
    "* `Immuteable` which is not change able ."
   ]
  },
  {
   "cell_type": "code",
   "execution_count": 38,
   "id": "80f52ba0-5b16-47fc-980e-372c95b673f3",
   "metadata": {},
   "outputs": [
    {
     "name": "stdout",
     "output_type": "stream",
     "text": [
      "<class 'tuple'>\n",
      "('a', 'b', 'c')\n"
     ]
    }
   ],
   "source": [
    "data =('a','b','c')\n",
    "print(type(data))\n",
    "print(data[0:3])"
   ]
  },
  {
   "cell_type": "code",
   "execution_count": 83,
   "id": "5553928b-83f2-4b65-ab8d-8d946beebcf5",
   "metadata": {},
   "outputs": [
    {
     "data": {
      "text/plain": [
       "('a', 'b', 'c', [100, 2, 3, 8])"
      ]
     },
     "execution_count": 83,
     "metadata": {},
     "output_type": "execute_result"
    }
   ],
   "source": [
    "a = ('a','b','c',[1,2,3])\n",
    "a[3].append(8)\n",
    "a[3][0] = 100\n",
    "a"
   ]
  },
  {
   "cell_type": "markdown",
   "id": "ff312813-1ea7-4a92-ae46-0802ca3d702d",
   "metadata": {},
   "source": [
    "* ## Dictationary\n",
    "* Starts & Ends with curly bracket `{}` .\n",
    "* Item\n",
    "    * `key` : `value`\n",
    "        *key = hashable type = int,str   # key is alwatys constant either it will be string or integer .\n",
    "        * value = any type .\n",
    "        * Semicolon`:` seprator between key value ."
   ]
  },
  {
   "cell_type": "code",
   "execution_count": 44,
   "id": "44a27eae-5fd7-4970-a0ac-867ab2c81c31",
   "metadata": {},
   "outputs": [
    {
     "data": {
      "text/plain": [
       "['Muhammad Bilal', 'Muhammad Afzal', '42101-6440508-7', 11, 'bilal']"
      ]
     },
     "execution_count": 44,
     "metadata": {},
     "output_type": "execute_result"
    }
   ],
   "source": [
    "#   0=name          1=fathername        2=cnic     3=roll  4=sgin\n",
    "[\"Muhammad Bilal\",\"Muhammad Afzal\",\"42101-6440508-7\",11,\"bilal\"]"
   ]
  },
  {
   "cell_type": "code",
   "execution_count": 84,
   "id": "2a8a40dc-e6bc-4b1c-985f-5adb9e88adc7",
   "metadata": {},
   "outputs": [
    {
     "data": {
      "text/plain": [
       "('muhammad bilal', 'muhammad afzal', '42101-6440508-7', '120312', 'bilal')"
      ]
     },
     "execution_count": 84,
     "metadata": {},
     "output_type": "execute_result"
    }
   ],
   "source": [
    "#simple and easy way to make dictatonary\n",
    "# 1st method\n",
    "data = {\n",
    "    \"name\":\"muhammad bilal\",\n",
    "    \"father_name\":\"muhammad afzal\",\n",
    "    \"cnic\":\"42101-6440508-7\",\n",
    "    \"roll_no\":\"120312\",\n",
    "    \"signature\":\"bilal\",\n",
    "}\n",
    "data[\"name\"],data[\"father_name\"],data[\"cnic\"],data[\"roll_no\"],data[\"signature\"]"
   ]
  },
  {
   "cell_type": "code",
   "execution_count": 94,
   "id": "ca05ee9e-a520-462d-9530-a3dbba2f9cfd",
   "metadata": {},
   "outputs": [
    {
     "name": "stdout",
     "output_type": "stream",
     "text": [
      "{'name': 'muhammad Bilal', 'father_name': 'Muhammad Afzal'} <class 'dict'>\n"
     ]
    }
   ],
   "source": [
    "# 2nd method\n",
    "data = {} #empty dictationary\n",
    "\n",
    "data['name']=\"muhammad Bilal\"\n",
    "data['father_name']=\"Muhammad Afzal\"\n",
    "\n",
    "print(data,type(data))"
   ]
  },
  {
   "cell_type": "code",
   "execution_count": 93,
   "id": "c336a4d2-eeda-40fb-a3f3-e8a97a829fbc",
   "metadata": {},
   "outputs": [
    {
     "name": "stdout",
     "output_type": "stream",
     "text": [
      "muhammad Bilal\n",
      "None\n",
      "not avaliable\n"
     ]
    }
   ],
   "source": [
    "# 2nd method\n",
    "data = {} #empty dictationary\n",
    "\n",
    "data['name']=\"muhammad Bilal\"\n",
    "data['father_name']=\"Muhammad Afzal\"\n",
    "\n",
    "print(data.get('name'))\n",
    "print(data.get('roll_no'))\n",
    "print(data.get('roll_no','not avaliable'))"
   ]
  },
  {
   "cell_type": "code",
   "execution_count": 96,
   "id": "0660ac76-60ed-4c55-8230-27e123f43ab0",
   "metadata": {},
   "outputs": [
    {
     "data": {
      "text/plain": [
       "{'name': None, 'id': None, 'father_name': None, 'cnic': None}"
      ]
     },
     "execution_count": 96,
     "metadata": {},
     "output_type": "execute_result"
    }
   ],
   "source": [
    "dict.fromkeys(['name','id','father_name','cnic'])"
   ]
  },
  {
   "cell_type": "code",
   "execution_count": 100,
   "id": "c0cb583a-a623-4e6e-bb56-2d0ecc0610a0",
   "metadata": {},
   "outputs": [
    {
     "data": {
      "text/plain": [
       "dict_items([('name', 'muhammad bilal'), ('father_name', 'muhammad afzal'), ('cnic', '42101-6440508-7'), ('roll_no', '120312'), ('signature', 'bilal')])"
      ]
     },
     "execution_count": 100,
     "metadata": {},
     "output_type": "execute_result"
    }
   ],
   "source": [
    "data = {\n",
    "    \"name\":\"muhammad bilal\",\n",
    "    \"father_name\":\"muhammad afzal\",\n",
    "    \"cnic\":\"42101-6440508-7\",\n",
    "    \"roll_no\":\"120312\",\n",
    "    \"signature\":\"bilal\",\n",
    "}     #keys      #values\n",
    "data.items()"
   ]
  },
  {
   "cell_type": "code",
   "execution_count": 98,
   "id": "a4c605b1-3470-487f-94fd-1eb8a123a5da",
   "metadata": {},
   "outputs": [
    {
     "data": {
      "text/plain": [
       "dict_keys(['name', 'father_name', 'cnic', 'roll_no', 'signature'])"
      ]
     },
     "execution_count": 98,
     "metadata": {},
     "output_type": "execute_result"
    }
   ],
   "source": [
    "data.keys()"
   ]
  },
  {
   "cell_type": "code",
   "execution_count": 101,
   "id": "1388916c-55b3-4c3a-a083-bcd3d8612bf3",
   "metadata": {},
   "outputs": [
    {
     "data": {
      "text/plain": [
       "dict_values(['muhammad bilal', 'muhammad afzal', '42101-6440508-7', '120312', 'bilal'])"
      ]
     },
     "execution_count": 101,
     "metadata": {},
     "output_type": "execute_result"
    }
   ],
   "source": [
    "data.values()"
   ]
  },
  {
   "cell_type": "code",
   "execution_count": 102,
   "id": "9d7f884d-9653-4684-ad3d-2d5235782150",
   "metadata": {},
   "outputs": [
    {
     "name": "stdout",
     "output_type": "stream",
     "text": [
      "aa\n",
      "bb\n"
     ]
    }
   ],
   "source": [
    "a,b = ('aa','bb') # unpack,unzip\n",
    "print(a)\n",
    "print(b)"
   ]
  },
  {
   "cell_type": "code",
   "execution_count": 1,
   "id": "872ccf5d-895c-4723-8c74-d98d2f56ceb1",
   "metadata": {},
   "outputs": [],
   "source": [
    "# Home work\n",
    "data = {\n",
    "    \"a\":3,\n",
    "    \"b\":2,\n",
    "    \"c\":4,\n",
    "}\n"
   ]
  },
  {
   "cell_type": "markdown",
   "id": "ed5ab4fd-e016-4493-ac0e-4ea713fd9c61",
   "metadata": {},
   "source": [
    "* Date-> 31-3-2023\n",
    "# Class 7"
   ]
  },
  {
   "cell_type": "markdown",
   "id": "168e76fb-33d8-4b46-911e-b779003ac206",
   "metadata": {},
   "source": [
    "* ### Linear programming"
   ]
  },
  {
   "cell_type": "code",
   "execution_count": 4,
   "id": "937ded09-82f8-42e0-870b-4ef87cc4fd10",
   "metadata": {},
   "outputs": [
    {
     "name": "stdout",
     "output_type": "stream",
     "text": [
      "pakistan Zindabad\n",
      "pakistan Zindabad\n",
      "pakistan Zindabad\n",
      "pakistan Zindabad\n",
      "pakistan Zindabad\n"
     ]
    }
   ],
   "source": [
    "print(\"pakistan Zindabad\")\n",
    "print(\"pakistan Zindabad\")\n",
    "print(\"pakistan Zindabad\")\n",
    "print(\"pakistan Zindabad\")\n",
    "print(\"pakistan Zindabad\")"
   ]
  },
  {
   "cell_type": "markdown",
   "id": "b7030329-be1c-4727-980d-b74bb4fec467",
   "metadata": {},
   "source": [
    "* ### Structural programming\n",
    "* Structure program is also called Control programming.\n",
    "* When it is applied the colour becomes `Green`.\n",
    "* After entering it forms an structure block ."
   ]
  },
  {
   "cell_type": "code",
   "execution_count": 9,
   "id": "d6f2a327-af04-471c-90ed-19ab74ec34fd",
   "metadata": {},
   "outputs": [
    {
     "name": "stdout",
     "output_type": "stream",
     "text": [
      "pakistan zindabad\n",
      "\t saylani mass it traning program\n",
      "pakistan zindabad\n",
      "\t saylani mass it traning program\n",
      "pakistan zindabad\n",
      "\t saylani mass it traning program\n",
      "pakistan zindabad\n",
      "\t saylani mass it traning program\n",
      "pakistan zindabad\n",
      "\t saylani mass it traning program\n"
     ]
    }
   ],
   "source": [
    "for num in range(1,6):\n",
    "    print(\"pakistan zindabad\")\n",
    "    print(\"\\t saylani mass it traning program\")\n"
   ]
  },
  {
   "cell_type": "markdown",
   "id": "74ce5f64-2e01-4e02-8c7a-ea9debba80fb",
   "metadata": {},
   "source": [
    "* ### Control\n",
    "* if\n",
    "    * else\n",
    "    * elif\n",
    "* for/while\n",
    "    * break\n",
    "    * continue\n",
    "    * pass\n",
    "    * else\n",
    "* def\n",
    "* try"
   ]
  },
  {
   "cell_type": "markdown",
   "id": "4f00a361-54fe-4747-b8d0-f94a80c870c6",
   "metadata": {},
   "source": [
    "* ## if\n",
    "* else\n",
    "* elif\n",
    "* ` if logic:`\n",
    "*      `True_block_body`\n",
    "*  `else :`\n",
    "*       `False_block_body `\n",
    "    "
   ]
  },
  {
   "cell_type": "code",
   "execution_count": 13,
   "id": "8f98d2c1-67ba-4dff-92fd-633bac913e3d",
   "metadata": {},
   "outputs": [
    {
     "name": "stdout",
     "output_type": "stream",
     "text": [
      "Pakistan\n",
      "America\n"
     ]
    }
   ],
   "source": [
    "print(\"Pakistan\")\n",
    "print(\"America\")\n"
   ]
  },
  {
   "cell_type": "code",
   "execution_count": 18,
   "id": "3c0c23a1-b701-4cb6-bdde-f9aeac5855ca",
   "metadata": {},
   "outputs": [
    {
     "name": "stdout",
     "output_type": "stream",
     "text": [
      "Pakistan\n",
      "America\n"
     ]
    }
   ],
   "source": [
    "if True:\n",
    "    print(\"Pakistan\")\n",
    "else:\n",
    "    print(\"America\")\n",
    "\n",
    "if False:\n",
    "    print(\"Pakistan\")\n",
    "else:\n",
    "    print(\"America\")"
   ]
  },
  {
   "cell_type": "code",
   "execution_count": 19,
   "id": "46dc5082-cb19-48ba-9ba6-d58f020fe5a4",
   "metadata": {},
   "outputs": [
    {
     "name": "stdin",
     "output_type": "stream",
     "text": [
      "Enter any number: 2616\n"
     ]
    },
    {
     "name": "stdout",
     "output_type": "stream",
     "text": [
      "the 2616 is Even!\n"
     ]
    }
   ],
   "source": [
    "num = int(input(\"Enter any number:\"))\n",
    "\n",
    "if num % 2 == 0:\n",
    "    print(f\"the {num} is Even!\")\n",
    "else:\n",
    "    print(f\"the {num} is Odd!\")"
   ]
  },
  {
   "cell_type": "code",
   "execution_count": 29,
   "id": "1b15317b-c6aa-4e7e-9a60-9411fc56b4fb",
   "metadata": {},
   "outputs": [
    {
     "name": "stdin",
     "output_type": "stream",
     "text": [
      "Enter your marks: 87\n"
     ]
    },
    {
     "name": "stdout",
     "output_type": "stream",
     "text": [
      "A+\n",
      "Your percentage is 87\n"
     ]
    }
   ],
   "source": [
    "per = int(input(\"Enter your marks:\"))\n",
    "\n",
    "if per >= 90:     # Logic 1\n",
    "    print(\"A++\")\n",
    "elif per>= 80:    # Logic 2\n",
    "    print(\"A+\")\n",
    "elif per>= 70:    # Logic 3\n",
    "    print(\"A\")\n",
    "elif per>= 60:    # Logic 4\n",
    "    print(\"B\")\n",
    "elif per>= 50:    # Logic 5\n",
    "    print(\"C\")\n",
    "elif per>= 40:    # Logic 6\n",
    "    print(\"D\")\n",
    "elif per>= 35:    # Logic 7\n",
    "    print(\"E\")\n",
    "else:             # Logic 8\n",
    "    print(\"fail\")\n",
    "\n",
    "print(\"Your percentage is\",per)"
   ]
  },
  {
   "cell_type": "code",
   "execution_count": 28,
   "id": "23bb0788-9a03-4393-9f90-85ef59f1aa79",
   "metadata": {},
   "outputs": [
    {
     "name": "stdin",
     "output_type": "stream",
     "text": [
      "Enter Percentage 78\n"
     ]
    },
    {
     "name": "stdout",
     "output_type": "stream",
     "text": [
      "A\n"
     ]
    }
   ],
   "source": [
    "per = int(input(\"Enter Percentage\"))\n",
    "\n",
    "if per >= 0 and per < 33:     # Logic 1\n",
    "    print(\"Fail\")\n",
    "elif per>= 35 and per < 40:    # Logic 2\n",
    "    print(\"E\")\n",
    "elif per>= 40 and per < 50:    # Logic 3\n",
    "    print(\"D\")\n",
    "elif per>= 50 and per < 60:    # Logic 4\n",
    "    print(\"C\")\n",
    "elif per>= 60 and per < 70:    # Logic 5\n",
    "    print(\"B\")\n",
    "elif per>= 70 and per < 85:    # Logic 6\n",
    "    print(\"A\")\n",
    "elif per>= 85 and per < 100:    # Logic 7\n",
    "    print(\"A++\")"
   ]
  },
  {
   "cell_type": "code",
   "execution_count": 35,
   "id": "8efeb03a-e086-456d-a04f-5612bf211644",
   "metadata": {},
   "outputs": [
    {
     "name": "stdin",
     "output_type": "stream",
     "text": [
      "Enter username admin\n",
      "Enter password admin\n"
     ]
    },
    {
     "name": "stdout",
     "output_type": "stream",
     "text": [
      "Valid user\n"
     ]
    },
    {
     "name": "stdin",
     "output_type": "stream",
     "text": [
      "Enter username ADMIN\n",
      "Enter password admin\n"
     ]
    },
    {
     "name": "stdout",
     "output_type": "stream",
     "text": [
      "Valid user\n"
     ]
    }
   ],
   "source": [
    "Username = input(\"Enter username\")\n",
    "Password = input(\"Enter password\")\n",
    "\n",
    "if Username == \"admin\" and Password == \"admin\":     # Logic 1\n",
    "    print(\"Valid user\")\n",
    "else:    # Logic 2\n",
    "    print(\"Invalid user\")\n",
    "    \n",
    "Username = input(\"Enter username\")\n",
    "Password = input(\"Enter password\")\n",
    "\n",
    "if Username.lower() == \"admin\" and Password == \"admin\":     # Logic 1\n",
    "    print(\"Valid user\")\n",
    "else:    # Logic 2\n",
    "    print(\"Invalid user\")"
   ]
  },
  {
   "cell_type": "code",
   "execution_count": 37,
   "id": "2ff981f2-ccde-44bf-af10-bbcca1d10725",
   "metadata": {},
   "outputs": [
    {
     "name": "stdin",
     "output_type": "stream",
     "text": [
      "Enter username ADMIN\n",
      "Enter password admin\n"
     ]
    },
    {
     "name": "stdout",
     "output_type": "stream",
     "text": [
      "Valid user\n"
     ]
    }
   ],
   "source": [
    "Username = input(\"Enter username\")\n",
    "Password = input(\"Enter password\")\n",
    "print(\"Valid user\") if Username.lower() == \"admin\" and Password == \"admin\" else print(\"Invalid user\")\n"
   ]
  },
  {
   "cell_type": "code",
   "execution_count": 46,
   "id": "040c6bb3-511a-438b-b9e0-1f4ce78b915b",
   "metadata": {},
   "outputs": [
    {
     "name": "stdout",
     "output_type": "stream",
     "text": [
      "a\n",
      "b\n",
      "c\n",
      "d\n",
      "e\n",
      "1\n",
      "2\n",
      "3\n",
      "4\n",
      "5\n",
      "mno\n",
      "xyz\n"
     ]
    }
   ],
   "source": [
    "for i in ['a','b','c','d','e',1,2,3,4,5,'mno','xyz']:\n",
    "    print(i)"
   ]
  },
  {
   "cell_type": "code",
   "execution_count": 79,
   "id": "e1086520-7fc0-4863-bc80-363580f4deb7",
   "metadata": {},
   "outputs": [
    {
     "data": {
      "text/plain": [
       "False"
      ]
     },
     "execution_count": 79,
     "metadata": {},
     "output_type": "execute_result"
    }
   ],
   "source": [
    "list in enumerate(['a','b','c','d','e',1,2,3,4,5,'mno','xyz'])"
   ]
  },
  {
   "cell_type": "markdown",
   "id": "64d2da57-f813-4883-8c23-1a989a2782ad",
   "metadata": {},
   "source": [
    "* ### ASCII Code\n",
    "* ord\n",
    "* chr"
   ]
  },
  {
   "cell_type": "code",
   "execution_count": 62,
   "id": "557e0be7-be2d-4c6b-8925-c0e9b278310d",
   "metadata": {},
   "outputs": [
    {
     "name": "stdout",
     "output_type": "stream",
     "text": [
      "119\n",
      "114\n",
      "116\n"
     ]
    }
   ],
   "source": [
    "print(ord('w'))\n",
    "print(ord('r'))\n",
    "print(ord('t'))"
   ]
  },
  {
   "cell_type": "code",
   "execution_count": 63,
   "id": "6d8d8b7f-d521-4dea-995c-e04962425f6b",
   "metadata": {},
   "outputs": [
    {
     "name": "stdout",
     "output_type": "stream",
     "text": [
      "w\n",
      "r\n",
      "t\n"
     ]
    }
   ],
   "source": [
    "print(chr(119))\n",
    "print(chr(114))\n",
    "print(chr(116))"
   ]
  },
  {
   "cell_type": "code",
   "execution_count": 80,
   "id": "86a445a3-c287-432f-9577-a874789e824f",
   "metadata": {},
   "outputs": [
    {
     "name": "stdout",
     "output_type": "stream",
     "text": [
      "A\n",
      "B\n",
      "C\n",
      "D\n",
      "E\n",
      "F\n",
      "G\n",
      "H\n",
      "I\n",
      "J\n",
      "K\n",
      "L\n",
      "M\n",
      "N\n",
      "O\n",
      "P\n",
      "Q\n",
      "R\n",
      "S\n",
      "T\n",
      "U\n",
      "V\n",
      "W\n",
      "X\n",
      "Y\n",
      "Z\n"
     ]
    }
   ],
   "source": [
    "for i in range(65,91):\n",
    "    print(chr(i))"
   ]
  },
  {
   "cell_type": "code",
   "execution_count": 64,
   "id": "3fb89097-0230-4b4e-bb42-996040bff7aa",
   "metadata": {},
   "outputs": [
    {
     "data": {
      "text/plain": [
       "['A',\n",
       " 'B',\n",
       " 'C',\n",
       " 'D',\n",
       " 'E',\n",
       " 'F',\n",
       " 'G',\n",
       " 'H',\n",
       " 'I',\n",
       " 'J',\n",
       " 'K',\n",
       " 'L',\n",
       " 'M',\n",
       " 'N',\n",
       " 'O',\n",
       " 'P',\n",
       " 'Q',\n",
       " 'R',\n",
       " 'S',\n",
       " 'T',\n",
       " 'U',\n",
       " 'V',\n",
       " 'W',\n",
       " 'X',\n",
       " 'Y',\n",
       " 'Z']"
      ]
     },
     "execution_count": 64,
     "metadata": {},
     "output_type": "execute_result"
    }
   ],
   "source": [
    "[chr(i) for i in range(65,91)]"
   ]
  },
  {
   "cell_type": "markdown",
   "id": "2bc7f43d-9e0f-479a-af82-11f1b99eeff3",
   "metadata": {},
   "source": [
    "* ### Loop control\n",
    "* `break` .\n",
    "* `continue` .\n",
    "* `pass` ."
   ]
  },
  {
   "cell_type": "code",
   "execution_count": 81,
   "id": "b80301a6-fcd5-420e-85fa-8c1a10309758",
   "metadata": {},
   "outputs": [
    {
     "name": "stdout",
     "output_type": "stream",
     "text": [
      "1\n",
      "1\n",
      "2\n",
      "3\n",
      "4\n",
      "5\n"
     ]
    }
   ],
   "source": [
    "for i in range(1,11):\n",
    "    print(i)\n",
    "    break\n",
    "    \n",
    "for i in range(1,11):\n",
    "    print(i)\n",
    "    if i == 5:\n",
    "            break"
   ]
  },
  {
   "cell_type": "code",
   "execution_count": 90,
   "id": "6efe64f5-a354-438a-8a74-a72d76719501",
   "metadata": {},
   "outputs": [
    {
     "name": "stdin",
     "output_type": "stream",
     "text": [
      "Enter username Bilal\n",
      "Password 123\n"
     ]
    },
    {
     "name": "stdout",
     "output_type": "stream",
     "text": [
      "{'id': 1, 'name': 'Muhammad Bilal', 'u': 'Bilal', 'p': '123'}\n"
     ]
    }
   ],
   "source": [
    "# made a database with dictationary.\n",
    "data = [{'id':1,'name':'Muhammad Bilal','u':'Bilal','p':'123'},\n",
    "        {'id':2,'name':'Muhammad Zohair','u':'Zohair','p':'123'},\n",
    "        {'id':3,'name':'Muhammad Basit','u':'Basit','p':'123'}]\n",
    "user = input(\"Enter username\")\n",
    "password = input(\"Password\")\n",
    "\n",
    "for d in data:\n",
    "    if d['u'] == user and d['p'] == password:\n",
    "        print(d)\n",
    "        break        "
   ]
  },
  {
   "cell_type": "code",
   "execution_count": 95,
   "id": "dc4b24bb-311b-4ca1-9e9e-4b0940057413",
   "metadata": {},
   "outputs": [
    {
     "name": "stdout",
     "output_type": "stream",
     "text": [
      "1\n",
      "2\n",
      "3\n",
      "4\n",
      "5\n",
      "6\n",
      "7\n",
      "8\n",
      "9\n",
      "10\n"
     ]
    }
   ],
   "source": [
    "for i in range(1,11):\n",
    "    print(i)\n",
    "    continue"
   ]
  },
  {
   "cell_type": "code",
   "execution_count": 93,
   "id": "1673fa23-408f-41be-abac-7fe1e7f511a7",
   "metadata": {},
   "outputs": [
    {
     "name": "stdout",
     "output_type": "stream",
     "text": [
      "1\n",
      "2\n",
      "3\n",
      "4\n",
      "5\n",
      "6\n",
      "7\n",
      "8\n",
      "9\n",
      "10\n"
     ]
    }
   ],
   "source": [
    "for i in range(1,11):\n",
    "    print(i)\n",
    "    pass\n",
    "if True:\n",
    "    pass\n",
    "else:\n",
    "    pass"
   ]
  },
  {
   "cell_type": "markdown",
   "id": "84a00231-ff6a-441c-acc3-0c34232a04ac",
   "metadata": {},
   "source": [
    "* ### While Loop .\n",
    "* while keyword is very similar to if .\n",
    "* counter .\n",
    "* logic .\n",
    "* loop body .\n",
    "* increment/decrement ."
   ]
  },
  {
   "cell_type": "code",
   "execution_count": 104,
   "id": "f8720898-3bd6-4de1-920e-f758ce0beff1",
   "metadata": {},
   "outputs": [
    {
     "name": "stdout",
     "output_type": "stream",
     "text": [
      "0 year\n",
      "1 year\n",
      "2 year\n",
      "3 year\n",
      "4 year\n",
      "5 year\n",
      "6 year\n",
      "7 year\n",
      "8 year\n",
      "9 year\n",
      "10 year\n",
      "11 year\n",
      "12 year\n",
      "13 year\n",
      "14 year\n",
      "15 year\n",
      "16 year\n",
      "17 year\n",
      "18 year\n",
      "19 year\n",
      "20 year\n",
      "21 year\n",
      "22 year\n",
      "23 year\n",
      "24 year\n",
      "25 year\n",
      "26 year\n",
      "27 year\n",
      "28 year\n",
      "29 year\n",
      "30 year\n",
      "31 year\n",
      "32 year\n",
      "33 year\n",
      "34 year\n",
      "35 year\n",
      "36 year\n",
      "37 year\n",
      "38 year\n",
      "39 year\n",
      "40 year\n",
      "41 year\n",
      "42 year\n",
      "43 year\n",
      "44 year\n",
      "45 year\n",
      "46 year\n",
      "47 year\n",
      "48 year\n",
      "49 year\n",
      "50 year\n",
      "51 year\n",
      "52 year\n",
      "53 year\n",
      "54 year\n",
      "55 year\n",
      "56 year\n",
      "57 year\n",
      "58 year\n",
      "59 year\n",
      "60 year\n",
      "61 year\n",
      "62 year\n",
      "63 year\n",
      "64 year\n",
      "65 year\n",
      "66 year\n",
      "67 year\n",
      "68 year\n",
      "69 year\n",
      "70 year\n",
      "71 year\n",
      "72 year\n",
      "73 year\n",
      "74 year\n",
      "75 year\n",
      "76 year\n",
      "77 year\n",
      "78 year\n",
      "79 year\n",
      "80 year\n",
      "81 year\n",
      "82 year\n",
      "83 year\n",
      "84 year\n",
      "85 year\n",
      "86 year\n",
      "87 year\n",
      "88 year\n",
      "89 year\n",
      "90 year\n",
      "91 year\n",
      "92 year\n",
      "93 year\n",
      "94 year\n",
      "95 year\n",
      "96 year\n",
      "97 year\n",
      "98 year\n",
      "99 year\n"
     ]
    }
   ],
   "source": [
    "counter = 0\n",
    "while counter < 100 :\n",
    "    print(counter,'year')\n",
    "    counter +=1"
   ]
  },
  {
   "cell_type": "code",
   "execution_count": null,
   "id": "cc023a0e-56a5-4578-bd90-609d31c72b2b",
   "metadata": {},
   "outputs": [],
   "source": []
  }
 ],
 "metadata": {
  "kernelspec": {
   "display_name": "Python 3 (ipykernel)",
   "language": "python",
   "name": "python3"
  },
  "language_info": {
   "codemirror_mode": {
    "name": "ipython",
    "version": 3
   },
   "file_extension": ".py",
   "mimetype": "text/x-python",
   "name": "python",
   "nbconvert_exporter": "python",
   "pygments_lexer": "ipython3",
   "version": "3.9.13"
  }
 },
 "nbformat": 4,
 "nbformat_minor": 5
}
